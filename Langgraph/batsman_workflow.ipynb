{
 "cells": [
  {
   "cell_type": "code",
   "execution_count": 6,
   "id": "24c9ab6b",
   "metadata": {},
   "outputs": [],
   "source": [
    "from langgraph.graph import StateGraph, START, END\n",
    "from typing import TypedDict"
   ]
  },
  {
   "cell_type": "code",
   "execution_count": 7,
   "id": "e934cfa3",
   "metadata": {},
   "outputs": [],
   "source": [
    "class BatsmanState(TypedDict):\n",
    "\n",
    "    runs: int\n",
    "    balls: int\n",
    "    fours: int\n",
    "    sixes: int\n",
    "\n",
    "    strike_rate: float\n",
    "    balls_per_boundary: float\n",
    "    boundary_percent: float\n",
    "    summary: str"
   ]
  },
  {
   "cell_type": "code",
   "execution_count": 23,
   "id": "60dbff4d",
   "metadata": {},
   "outputs": [],
   "source": [
    "def calculate_strike_rate(state: BatsmanState):\n",
    "\n",
    "    runs = state['runs']\n",
    "    balls = state['balls']\n",
    "    strike_rate = (runs / balls) * 100 \n",
    "\n",
    "    return {'strike_rate': strike_rate}\n",
    "\n",
    "def calculate_balls_per_boundary(state: BatsmanState):\n",
    "\n",
    "    balls = state['balls']\n",
    "    fours = state['fours']\n",
    "    sixes = state['sixes']\n",
    "\n",
    "    balls_per_boundary = balls / (fours + sixes)\n",
    "\n",
    "    return {'balls_per_boundary': balls_per_boundary}\n",
    "\n",
    "def calculate_boundary_percent(state: BatsmanState):\n",
    "\n",
    "    runs = state['runs']\n",
    "    fours = state['fours']\n",
    "    sixes = state['sixes']\n",
    "\n",
    "    boundary_percent = (((fours * 4) + (sixes * 6)) / runs) * 100\n",
    "\n",
    "    return {'boundary_percent': boundary_percent}\n",
    "\n",
    "def generate_summary(state: BatsmanState):\n",
    "\n",
    "    summary = f\"\"\"\n",
    "    Strike Rate: {state['strike_rate']} \\n\n",
    "    Balls Per Boundary: {state['balls_per_boundary']} \\n\n",
    "    Boundary Percent: {state['boundary_percent']}\n",
    "    \"\"\"\n",
    "\n",
    "    return {'summary': summary}"
   ]
  },
  {
   "cell_type": "code",
   "execution_count": 24,
   "id": "84374953",
   "metadata": {},
   "outputs": [],
   "source": [
    "graph = StateGraph(BatsmanState)\n",
    "\n",
    "# Nodes\n",
    "graph.add_node('calculate_strike_rate', calculate_strike_rate)\n",
    "graph.add_node('calculate_balls_per_boundary', calculate_balls_per_boundary)\n",
    "graph.add_node('calculate_boundary_percent', calculate_boundary_percent)\n",
    "graph.add_node('generate_summary', generate_summary)\n",
    "\n",
    "# Edges\n",
    "\n",
    "graph.add_edge(START, 'calculate_strike_rate')\n",
    "graph.add_edge(START, 'calculate_balls_per_boundary')\n",
    "graph.add_edge(START, 'calculate_boundary_percent')\n",
    "\n",
    "graph.add_edge('calculate_strike_rate', 'generate_summary')\n",
    "graph.add_edge('calculate_balls_per_boundary', 'generate_summary')\n",
    "graph.add_edge('calculate_boundary_percent', 'generate_summary')\n",
    "\n",
    "graph.add_edge('generate_summary', END)\n",
    "\n",
    "# Compile\n",
    "\n",
    "workflow = graph.compile()"
   ]
  },
  {
   "cell_type": "code",
   "execution_count": 25,
   "id": "9dfeb9e4",
   "metadata": {},
   "outputs": [
    {
     "data": {
      "image/png": "[encoded data removed]",
      "text/plain": [
       "<IPython.core.display.Image object>"
      ]
     },
     "execution_count": 25,
     "metadata": {},
     "output_type": "execute_result"
    }
   ],
   "source": [
    "from IPython.display import Image\n",
    "Image(workflow.get_graph().draw_mermaid_png())"
   ]
  },
  {
   "cell_type": "code",
   "execution_count": 26,
   "id": "b3ec28f5",
   "metadata": {},
   "outputs": [
    {
     "name": "stdout",
     "output_type": "stream",
     "text": [
      "{'balls': 40,\n",
      " 'balls_per_boundary': 2.857142857142857,\n",
      " 'boundary_percent': 64.0,\n",
      " 'fours': 10,\n",
      " 'runs': 100,\n",
      " 'sixes': 4,\n",
      " 'strike_rate': 250.0,\n",
      " 'summary': '\\n'\n",
      "            '    Strike Rate: 250.0 \\n'\n",
      "            '\\n'\n",
      "            '    Balls Per Boundary: 2.857142857142857 \\n'\n",
      "            '\\n'\n",
      "            '    Boundary Percent: 64.0\\n'\n",
      "            '    '}\n"
     ]
    }
   ],
   "source": [
    "from pprint import pprint\n",
    "\n",
    "initial_state = {\n",
    "    'runs': 100,\n",
    "    'balls': 40,\n",
    "    'fours': 10,\n",
    "    'sixes': 4\n",
    "}\n",
    "\n",
    "final_state = workflow.invoke(initial_state)\n",
    "pprint(final_state)"
   ]
  }
 ],
 "metadata": {
  "kernelspec": {
   "display_name": "venv (3.11.10)",
   "language": "python",
   "name": "python3"
  },
  "language_info": {
   "codemirror_mode": {
    "name": "ipython",
    "version": 3
   },
   "file_extension": ".py",
   "mimetype": "text/x-python",
   "name": "python",
   "nbconvert_exporter": "python",
   "pygments_lexer": "ipython3",
   "version": "3.11.10"
  }
 },
 "nbformat": 4,
 "nbformat_minor": 5
}
