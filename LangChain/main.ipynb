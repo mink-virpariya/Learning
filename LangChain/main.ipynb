{
 "cells": [
  {
   "cell_type": "code",
   "execution_count": null,
   "id": "4ae7b584",
   "metadata": {},
   "outputs": [],
   "source": [
    "import os\n",
    "from dotenv import load_dotenv\n",
    "\n",
    "gemini_api_key = os.getenv('GEMINI_API_KEY')\n",
    "openai_api_key = os.getenv('OPENAI_API_KEY')"
   ]
  },
  {
   "cell_type": "markdown",
   "id": "9147116f",
   "metadata": {},
   "source": [
    "#### Loading LLM using init method"
   ]
  },
  {
   "cell_type": "code",
   "execution_count": 3,
   "id": "f45da0b0",
   "metadata": {},
   "outputs": [
    {
     "data": {
      "text/plain": [
       "'Machine learning enables computers to learn from data without explicit programming.'"
      ]
     },
     "execution_count": 3,
     "metadata": {},
     "output_type": "execute_result"
    }
   ],
   "source": [
    "from langchain.chat_models import init_chat_model\n",
    "\n",
    "gemini_model = init_chat_model(model_provider='google_genai',\n",
    "                               model='gemini-2.0-flash-001',\n",
    "                               )\n",
    "\n",
    "gemini_model.invoke('Explain machine learning in 1 line.').content"
   ]
  },
  {
   "cell_type": "markdown",
   "id": "a975f865",
   "metadata": {},
   "source": [
    "#### Loading LLM using configurable method"
   ]
  },
  {
   "cell_type": "code",
   "execution_count": 8,
   "id": "0a02ab6e",
   "metadata": {},
   "outputs": [
    {
     "data": {
      "text/plain": [
       "'The capital of Gujarat is **Gandhinagar**.'"
      ]
     },
     "execution_count": 8,
     "metadata": {},
     "output_type": "execute_result"
    }
   ],
   "source": [
    "gemini_configurable_model = init_chat_model()\n",
    "\n",
    "gemini_configurable_model.invoke('What is the capital of gujarat?', config={\"configurable\": {\"model\": \"gemini-2.0-flash-001\", \"model_provider\": \"google_genai\"}}).content"
   ]
  },
  {
   "cell_type": "markdown",
   "id": "977d981b",
   "metadata": {},
   "source": [
    "#### Tool Calling"
   ]
  },
  {
   "cell_type": "code",
   "execution_count": 37,
   "id": "a84fee6d",
   "metadata": {},
   "outputs": [],
   "source": [
    "from pydantic import BaseModel, Field\n",
    "from langchain_core.tools import tool\n",
    "\n",
    "@tool\n",
    "class add(BaseModel):\n",
    "    \"\"\"Add two numbers.\"\"\"\n",
    "\n",
    "    a: int = Field(..., description=\"First Integer\")\n",
    "    b: int = Field(..., description=\"Second Integer\")"
   ]
  },
  {
   "cell_type": "code",
   "execution_count": 38,
   "id": "25586dc1",
   "metadata": {},
   "outputs": [],
   "source": [
    "gemini_with_tools = gemini_model.bind_tools([add])\n",
    "\n",
    "output = gemini_with_tools.invoke('What is 44 + 6 ?')"
   ]
  },
  {
   "cell_type": "code",
   "execution_count": 39,
   "id": "7728a4a4",
   "metadata": {},
   "outputs": [
    {
     "name": "stdout",
     "output_type": "stream",
     "text": [
      "content='' additional_kwargs={'function_call': {'name': 'add', 'arguments': '{\"a\": 44.0, \"b\": 6.0}'}} response_metadata={'prompt_feedback': {'block_reason': 0, 'safety_ratings': []}, 'finish_reason': 'STOP', 'model_name': 'gemini-2.0-flash-001', 'safety_ratings': []} id='run--89f18f5e-fb4a-4b94-980e-ed5189d301e4-0' tool_calls=[{'name': 'add', 'args': {'a': 44.0, 'b': 6.0}, 'id': '26a29bbf-ff5f-436c-bac6-9c9596e21079', 'type': 'tool_call'}] usage_metadata={'input_tokens': 21, 'output_tokens': 5, 'total_tokens': 26, 'input_token_details': {'cache_read': 0}}\n"
     ]
    }
   ],
   "source": [
    "print(output)"
   ]
  },
  {
   "cell_type": "code",
   "execution_count": 40,
   "id": "98249d7f",
   "metadata": {},
   "outputs": [
    {
     "data": {
      "text/plain": [
       "[{'name': 'add',\n",
       "  'args': {'a': 44.0, 'b': 6.0},\n",
       "  'id': '26a29bbf-ff5f-436c-bac6-9c9596e21079',\n",
       "  'type': 'tool_call'}]"
      ]
     },
     "execution_count": 40,
     "metadata": {},
     "output_type": "execute_result"
    }
   ],
   "source": [
    "output.tool_calls"
   ]
  },
  {
   "cell_type": "markdown",
   "id": "91bf5182",
   "metadata": {},
   "source": [
    "#### Passing tool output to LLM"
   ]
  },
  {
   "cell_type": "code",
   "execution_count": 41,
   "id": "3480c146",
   "metadata": {},
   "outputs": [
    {
     "name": "stdout",
     "output_type": "stream",
     "text": [
      "[{'name': 'add', 'args': {'a': 3.0, 'b': 97.0}, 'id': 'f4e5db69-1eaf-4651-9fde-a489ab917f5d', 'type': 'tool_call'}, {'name': 'add', 'args': {'a': 99.0, 'b': 1.0}, 'id': '1a36ae25-fdf0-4dde-85b7-6bbd477a0da7', 'type': 'tool_call'}]\n"
     ]
    }
   ],
   "source": [
    "from langchain_core.messages import HumanMessage\n",
    "\n",
    "query = \"What is 3 + 97 ? and What is 99 + 1\"\n",
    "messages = [HumanMessage(query)]\n",
    "\n",
    "ai_msg = gemini_with_tools.invoke(messages)\n",
    "print(ai_msg.tool_calls)\n",
    "messages.append(ai_msg)"
   ]
  },
  {
   "cell_type": "code",
   "execution_count": 43,
   "id": "23286146",
   "metadata": {},
   "outputs": [
    {
     "data": {
      "text/plain": [
       "[HumanMessage(content='What is 3 + 97 ? and What is 99 + 1', additional_kwargs={}, response_metadata={}),\n",
       " AIMessage(content='', additional_kwargs={'function_call': {'name': 'add', 'arguments': '{\"a\": 99.0, \"b\": 1.0}'}}, response_metadata={'prompt_feedback': {'block_reason': 0, 'safety_ratings': []}, 'finish_reason': 'STOP', 'model_name': 'gemini-2.0-flash-001', 'safety_ratings': []}, id='run--e76802fb-a2b5-498b-b093-2fac2b2de0c9-0', tool_calls=[{'name': 'add', 'args': {'a': 3.0, 'b': 97.0}, 'id': 'f4e5db69-1eaf-4651-9fde-a489ab917f5d', 'type': 'tool_call'}, {'name': 'add', 'args': {'a': 99.0, 'b': 1.0}, 'id': '1a36ae25-fdf0-4dde-85b7-6bbd477a0da7', 'type': 'tool_call'}], usage_metadata={'input_tokens': 30, 'output_tokens': 10, 'total_tokens': 40, 'input_token_details': {'cache_read': 0}}),\n",
       " ToolMessage(content='a=3 b=97', name='add', tool_call_id='f4e5db69-1eaf-4651-9fde-a489ab917f5d'),\n",
       " ToolMessage(content='a=99 b=1', name='add', tool_call_id='1a36ae25-fdf0-4dde-85b7-6bbd477a0da7')]"
      ]
     },
     "execution_count": 43,
     "metadata": {},
     "output_type": "execute_result"
    }
   ],
   "source": [
    "for tool_call in ai_msg.tool_calls:\n",
    "    selected_tool = {\"add\": add}[tool_call[\"name\"].lower()]\n",
    "    tool_msg = selected_tool.invoke(tool_call)\n",
    "    messages.append(tool_msg)\n",
    "\n",
    "messages"
   ]
  },
  {
   "cell_type": "code",
   "execution_count": 44,
   "id": "779e360e",
   "metadata": {},
   "outputs": [
    {
     "data": {
      "text/plain": [
       "'3 + 97 = 100 and 99 + 1 = 100'"
      ]
     },
     "execution_count": 44,
     "metadata": {},
     "output_type": "execute_result"
    }
   ],
   "source": [
    "gemini_with_tools.invoke(messages).content"
   ]
  },
  {
   "cell_type": "markdown",
   "id": "94fa9634",
   "metadata": {},
   "source": [
    "#### Structured Output from LLM"
   ]
  },
  {
   "cell_type": "code",
   "execution_count": 52,
   "id": "8c28e6f8",
   "metadata": {},
   "outputs": [],
   "source": [
    "from typing import Optional\n",
    "from pydantic import BaseModel, Field\n",
    "\n",
    "class Joke(BaseModel):\n",
    "    \"\"\"Joke to tell user.\"\"\"\n",
    "\n",
    "    setup: str = Field(..., description=\"The setup of the joke\")\n",
    "    punchline: str = Field(..., description=\"The punchline of the joke\")\n",
    "    rating: Optional[int] = Field(default=None, description=\"How funny the joke is, from 1 to 10\")"
   ]
  },
  {
   "cell_type": "code",
   "execution_count": 56,
   "id": "e0b1f9c6",
   "metadata": {},
   "outputs": [
    {
     "data": {
      "text/plain": [
       "Joke(setup='Why did the horse quit his job?', punchline='Because he already has a stable job!', rating=None)"
      ]
     },
     "execution_count": 56,
     "metadata": {},
     "output_type": "execute_result"
    }
   ],
   "source": [
    "structured_llm = gemini_model.with_structured_output(Joke)\n",
    "structured_llm.invoke(\"Tell me an joke about horse\")"
   ]
  }
 ],
 "metadata": {
  "kernelspec": {
   "display_name": "env (3.11.10)",
   "language": "python",
   "name": "python3"
  },
  "language_info": {
   "codemirror_mode": {
    "name": "ipython",
    "version": 3
   },
   "file_extension": ".py",
   "mimetype": "text/x-python",
   "name": "python",
   "nbconvert_exporter": "python",
   "pygments_lexer": "ipython3",
   "version": "3.11.10"
  }
 },
 "nbformat": 4,
 "nbformat_minor": 5
}
