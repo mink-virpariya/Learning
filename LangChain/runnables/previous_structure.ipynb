{
 "cells": [
  {
   "cell_type": "code",
   "execution_count": 19,
   "id": "6de8dafa",
   "metadata": {},
   "outputs": [],
   "source": [
    "class NakliPromptTemplate:\n",
    "\n",
    "    def __init__(self, template):\n",
    "        self.template = template\n",
    "\n",
    "    def format(self, input_dict):\n",
    "        return self.template.format(**input_dict)"
   ]
  },
  {
   "cell_type": "code",
   "execution_count": 20,
   "id": "bc33eeaf",
   "metadata": {},
   "outputs": [
    {
     "data": {
      "text/plain": [
       "'Write an joke on cricket'"
      ]
     },
     "execution_count": 20,
     "metadata": {},
     "output_type": "execute_result"
    }
   ],
   "source": [
    "template = \"Write an joke on {topic}\"\n",
    "\n",
    "prompt_template = NakliPromptTemplate(template)\n",
    "\n",
    "prompt_template.format({'topic': 'cricket'})"
   ]
  },
  {
   "cell_type": "code",
   "execution_count": 21,
   "id": "4231f68d",
   "metadata": {},
   "outputs": [],
   "source": [
    "import random\n",
    "\n",
    "class NakliLLM:\n",
    "\n",
    "    def __init__(self):\n",
    "        print('LLM created')\n",
    "\n",
    "    def predict(self, prompt):\n",
    "\n",
    "        response_list = [\n",
    "            \"This is an first sentence\",\n",
    "            \"This is an second sentence\",\n",
    "            \"This is an third sentence\"\n",
    "        ]\n",
    "\n",
    "\n",
    "        return {'response': random.choice(response_list)}"
   ]
  },
  {
   "cell_type": "code",
   "execution_count": 22,
   "id": "ca9a5481",
   "metadata": {},
   "outputs": [
    {
     "name": "stdout",
     "output_type": "stream",
     "text": [
      "LLM created\n"
     ]
    }
   ],
   "source": [
    "llm = NakliLLM()"
   ]
  },
  {
   "cell_type": "code",
   "execution_count": 23,
   "id": "558d8921",
   "metadata": {},
   "outputs": [
    {
     "data": {
      "text/plain": [
       "{'response': 'This is an first sentence'}"
      ]
     },
     "execution_count": 23,
     "metadata": {},
     "output_type": "execute_result"
    }
   ],
   "source": [
    "llm.predict(\"This is an temporary prompt\")"
   ]
  },
  {
   "cell_type": "code",
   "execution_count": 24,
   "id": "29751ceb",
   "metadata": {},
   "outputs": [],
   "source": [
    "class NakliChain:\n",
    "\n",
    "    def __init__(self, prompt, llm):\n",
    "        self.prompt = prompt\n",
    "        self.llm = llm\n",
    "\n",
    "    def run(self, input_dict):\n",
    "\n",
    "        final_prompt = self.prompt.format(**input_dict)\n",
    "        result = self.llm.predict(final_prompt)\n",
    "\n",
    "        return result['response']"
   ]
  },
  {
   "cell_type": "code",
   "execution_count": 25,
   "id": "d2b78906",
   "metadata": {},
   "outputs": [
    {
     "name": "stdout",
     "output_type": "stream",
     "text": [
      "LLM created\n"
     ]
    }
   ],
   "source": [
    "chain = NakliChain(prompt = \"Write an joke on {topic}\", llm=NakliLLM())"
   ]
  },
  {
   "cell_type": "code",
   "execution_count": 27,
   "id": "fa34834a",
   "metadata": {},
   "outputs": [
    {
     "data": {
      "text/plain": [
       "'This is an second sentence'"
      ]
     },
     "execution_count": 27,
     "metadata": {},
     "output_type": "execute_result"
    }
   ],
   "source": [
    "chain.run({'topic': 'music'})"
   ]
  }
 ],
 "metadata": {
  "kernelspec": {
   "display_name": "env (3.11.10)",
   "language": "python",
   "name": "python3"
  },
  "language_info": {
   "codemirror_mode": {
    "name": "ipython",
    "version": 3
   },
   "file_extension": ".py",
   "mimetype": "text/x-python",
   "name": "python",
   "nbconvert_exporter": "python",
   "pygments_lexer": "ipython3",
   "version": "3.11.10"
  }
 },
 "nbformat": 4,
 "nbformat_minor": 5
}
