{
 "cells": [
  {
   "cell_type": "code",
   "execution_count": 1,
   "id": "f43fb961",
   "metadata": {},
   "outputs": [],
   "source": [
    "from abc import ABC, abstractmethod"
   ]
  },
  {
   "cell_type": "code",
   "execution_count": 2,
   "id": "058cd30a",
   "metadata": {},
   "outputs": [],
   "source": [
    "class Runnable(ABC):\n",
    "    \n",
    "    @abstractmethod\n",
    "    def invoke(input_data):\n",
    "        pass"
   ]
  },
  {
   "cell_type": "code",
   "execution_count": 6,
   "id": "432cc6b8",
   "metadata": {},
   "outputs": [],
   "source": [
    "import random\n",
    "\n",
    "class NakliLLM(Runnable):\n",
    "\n",
    "    def __init__(self):\n",
    "        print('LLM created')\n",
    "\n",
    "    def invoke(self, prompt):\n",
    "        response_list = [\n",
    "            \"This is an first sentence\",\n",
    "            \"This is an second sentence\",\n",
    "            \"This is an third sentence\"\n",
    "        ]\n",
    "\n",
    "\n",
    "        return {'response': random.choice(response_list)}\n",
    "\n",
    "    def predict(self, prompt):\n",
    "\n",
    "        response_list = [\n",
    "            \"This is an first sentence\",\n",
    "            \"This is an second sentence\",\n",
    "            \"This is an third sentence\"\n",
    "        ]\n",
    "\n",
    "\n",
    "        return {'response': random.choice(response_list)}"
   ]
  },
  {
   "cell_type": "code",
   "execution_count": 7,
   "id": "a3bd650f",
   "metadata": {},
   "outputs": [],
   "source": [
    "class NakliPromptTemplate(Runnable):\n",
    "\n",
    "    def __init__(self, template):\n",
    "        self.template = template\n",
    "\n",
    "    def invoke(self, input_dict):\n",
    "        return self.template.format(**input_dict)\n",
    "\n",
    "    def format(self, input_dict):\n",
    "        return self.template.format(**input_dict)"
   ]
  },
  {
   "cell_type": "code",
   "execution_count": 8,
   "id": "d32bfdb0",
   "metadata": {},
   "outputs": [],
   "source": [
    "class NakliOutputParser(Runnable):\n",
    "\n",
    "    def __init__(self):\n",
    "        pass\n",
    "\n",
    "    def invoke(self, input_data):\n",
    "        return input_data['response']"
   ]
  },
  {
   "cell_type": "code",
   "execution_count": 9,
   "id": "6166a4ab",
   "metadata": {},
   "outputs": [],
   "source": [
    "class RunnableChain(Runnable):\n",
    "\n",
    "    def __init__(self, runnable_list):\n",
    "        self.runnable_list = runnable_list\n",
    "\n",
    "    def invoke(self, input_data):\n",
    "\n",
    "        for runnable_list in self.runnable_list:\n",
    "            input_data = runnable_list.invoke(input_data)\n",
    "        \n",
    "        return input_data"
   ]
  },
  {
   "cell_type": "code",
   "execution_count": 10,
   "id": "4b647343",
   "metadata": {},
   "outputs": [
    {
     "name": "stdout",
     "output_type": "stream",
     "text": [
      "LLM created\n"
     ]
    }
   ],
   "source": [
    "template = NakliPromptTemplate(template='Write an joke on {topic}')\n",
    "llm = NakliLLM()\n",
    "parser = NakliOutputParser()"
   ]
  },
  {
   "cell_type": "code",
   "execution_count": 14,
   "id": "84b2f0f5",
   "metadata": {},
   "outputs": [
    {
     "name": "stdout",
     "output_type": "stream",
     "text": [
      "This is an first sentence\n"
     ]
    }
   ],
   "source": [
    "chain = RunnableChain([template, llm, parser])\n",
    "result = chain.invoke({'topic': 'cricket'})\n",
    "print(result)"
   ]
  }
 ],
 "metadata": {
  "kernelspec": {
   "display_name": "env (3.11.10)",
   "language": "python",
   "name": "python3"
  },
  "language_info": {
   "codemirror_mode": {
    "name": "ipython",
    "version": 3
   },
   "file_extension": ".py",
   "mimetype": "text/x-python",
   "name": "python",
   "nbconvert_exporter": "python",
   "pygments_lexer": "ipython3",
   "version": "3.11.10"
  }
 },
 "nbformat": 4,
 "nbformat_minor": 5
}
